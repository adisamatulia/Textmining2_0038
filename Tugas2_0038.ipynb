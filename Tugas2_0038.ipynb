{
  "nbformat": 4,
  "nbformat_minor": 0,
  "metadata": {
    "colab": {
      "provenance": [],
      "collapsed_sections": []
    },
    "kernelspec": {
      "name": "python3",
      "display_name": "Python 3"
    },
    "language_info": {
      "name": "python"
    }
  },
  "cells": [
    {
      "cell_type": "code",
      "execution_count": 1,
      "metadata": {
        "colab": {
          "base_uri": "https://localhost:8080/"
        },
        "id": "biAl2bvMWZzW",
        "outputId": "3800a085-e824-439c-e1a1-ef9118e177c8"
      },
      "outputs": [
        {
          "output_type": "stream",
          "name": "stdout",
          "text": [
            "Looking in indexes: https://pypi.org/simple, https://us-python.pkg.dev/colab-wheels/public/simple/\n",
            "Collecting snscrape\n",
            "  Downloading snscrape-0.3.4-py3-none-any.whl (35 kB)\n",
            "Requirement already satisfied: requests[socks] in /usr/local/lib/python3.7/dist-packages (from snscrape) (2.23.0)\n",
            "Requirement already satisfied: lxml in /usr/local/lib/python3.7/dist-packages (from snscrape) (4.9.1)\n",
            "Requirement already satisfied: beautifulsoup4 in /usr/local/lib/python3.7/dist-packages (from snscrape) (4.6.3)\n",
            "Requirement already satisfied: idna<3,>=2.5 in /usr/local/lib/python3.7/dist-packages (from requests[socks]->snscrape) (2.10)\n",
            "Requirement already satisfied: urllib3!=1.25.0,!=1.25.1,<1.26,>=1.21.1 in /usr/local/lib/python3.7/dist-packages (from requests[socks]->snscrape) (1.24.3)\n",
            "Requirement already satisfied: chardet<4,>=3.0.2 in /usr/local/lib/python3.7/dist-packages (from requests[socks]->snscrape) (3.0.4)\n",
            "Requirement already satisfied: certifi>=2017.4.17 in /usr/local/lib/python3.7/dist-packages (from requests[socks]->snscrape) (2022.9.24)\n",
            "Requirement already satisfied: PySocks!=1.5.7,>=1.5.6 in /usr/local/lib/python3.7/dist-packages (from requests[socks]->snscrape) (1.7.1)\n",
            "Installing collected packages: snscrape\n",
            "Successfully installed snscrape-0.3.4\n"
          ]
        }
      ],
      "source": [
        "!pip install snscrape"
      ]
    },
    {
      "cell_type": "code",
      "source": [
        "pip install langdetect"
      ],
      "metadata": {
        "colab": {
          "base_uri": "https://localhost:8080/"
        },
        "id": "F7-rfinkW1w_",
        "outputId": "1fe88e51-c598-4a51-c68e-febb95dd7086"
      },
      "execution_count": 2,
      "outputs": [
        {
          "output_type": "stream",
          "name": "stdout",
          "text": [
            "Looking in indexes: https://pypi.org/simple, https://us-python.pkg.dev/colab-wheels/public/simple/\n",
            "Collecting langdetect\n",
            "  Downloading langdetect-1.0.9.tar.gz (981 kB)\n",
            "\u001b[K     |████████████████████████████████| 981 kB 5.2 MB/s \n",
            "\u001b[?25hRequirement already satisfied: six in /usr/local/lib/python3.7/dist-packages (from langdetect) (1.15.0)\n",
            "Building wheels for collected packages: langdetect\n",
            "  Building wheel for langdetect (setup.py) ... \u001b[?25l\u001b[?25hdone\n",
            "  Created wheel for langdetect: filename=langdetect-1.0.9-py3-none-any.whl size=993242 sha256=7fd8d213e3d3326144f1337cf6c72da3e25e267b01edec9ebe1742dc66245e9c\n",
            "  Stored in directory: /root/.cache/pip/wheels/c5/96/8a/f90c59ed25d75e50a8c10a1b1c2d4c402e4dacfa87f3aff36a\n",
            "Successfully built langdetect\n",
            "Installing collected packages: langdetect\n",
            "Successfully installed langdetect-1.0.9\n"
          ]
        }
      ]
    },
    {
      "cell_type": "code",
      "source": [
        "import snscrape.modules.twitter as sntwitter\n",
        "import json\n",
        "from langdetect import detect"
      ],
      "metadata": {
        "id": "w6RR05syXP32"
      },
      "execution_count": 3,
      "outputs": []
    },
    {
      "cell_type": "code",
      "source": [
        "keywords=['BPJS']\n",
        "start=\"2022–10–06\"\n",
        "end =\"2022–10–25\"\n",
        "max_num=150\n",
        "fname='tweet.json' \n",
        "languages=['id','en']"
      ],
      "metadata": {
        "id": "HkNouxDwZC7T"
      },
      "execution_count": 4,
      "outputs": []
    },
    {
      "cell_type": "code",
      "source": [
        "import pandas as pd\n",
        "datatw=[]"
      ],
      "metadata": {
        "id": "qOSeMDrMZh4b"
      },
      "execution_count": 5,
      "outputs": []
    },
    {
      "cell_type": "code",
      "source": [
        "for keyword in keywords:\n",
        "   \n",
        "    for i, tweet in enumerate (sntwitter.TwitterSearchScraper(f'{keyword} ').get_items()):\n",
        "        \n",
        "        try:\n",
        "            lan=detect(tweet.content)\n",
        "        except:\n",
        "            lan='error'\n",
        "        if i == max_num:\n",
        "            break\n",
        "        if lan in languages:\n",
        "            data = {'id': tweet.id, 'username':tweet.username, 'date': tweet.date, 'text': tweet.content,'url':tweet.url}\n",
        "           # print(data)\n",
        "            datatw.append(tweet.content)\n",
        "            with open(fname, 'a+', encoding='utf-8') as f:\n",
        "                line = json.dumps(data, ensure_ascii=False,default=str)\n",
        "                #print(line)\n",
        "                f.write(line)\n",
        "                f.write('\\n')"
      ],
      "metadata": {
        "id": "HFhQdCIaZon3"
      },
      "execution_count": 6,
      "outputs": []
    },
    {
      "cell_type": "code",
      "source": [
        "datatw"
      ],
      "metadata": {
        "colab": {
          "base_uri": "https://localhost:8080/"
        },
        "id": "B3fZQ57GZ8rA",
        "outputId": "542a7a30-c05f-4d8d-a68d-973af1a6e01e"
      },
      "execution_count": 7,
      "outputs": [
        {
          "output_type": "execute_result",
          "data": {
            "text/plain": [
              "['Mentok 6 sih, lebih dari ini auto BPJS https://t.co/G0xoxhfQkd',\n",
              " 'Best RSUP so far. Pelayanannya sat set sat set walaupun pk BPJS. Dokter, perawat, apoteker dsb super ramah. Fasilitas lengkap. Prosedur pendaftaran, pemeriksaan, tindakan dll bagus. https://t.co/blhmZP3r6t',\n",
              " '@Johannespartogi @sealdriveReeL @van_destraat @tanyakanrl Kalau nggak salah bisa pake bpjs ya teh @amwidyou ???',\n",
              " '@ariyadifebri Tarif rawat inap BPJS kayaknya ga ada yang sampe 23 jt dalam satu periode rawat inap, kecuali kalo rawat ICU dan/atau ada tindakan besar 😁',\n",
              " '@xaxaxayasia @gatausihgmn @tanonaki @convomfs Wah enak yaa. Dulu pas jamannya mamaku blm ada kip kak, baru ada bpjs, itupun bpjs masih baruuu bgt di rilis jd masih lumayan ribet dan blm bisa cover byk. Klo skrg donor darah udh byk yg bisa gratis, mungkin aku bisa bujuk masku lagi hehe. Makasih ya infonya!',\n",
              " 'Ayahku juga MRI + rawat inap bolak balik sampe berhari hari gratis ditanggung BPJS makasih banyakk BPJS ❤️❤️ https://t.co/UZvDQKwKcM',\n",
              " '@belindch dok perawatan akar ditanggung bpjs tah?',\n",
              " '@wencod Kehidupan kurir ekspedisi tu susah, mayoritas cm pekerja harian, ga ada kontrak, ga ada bpjs, bensin, pulsa pun ga ditanggung kantor. Jadi jangankan nyuri, lewat dr deadline pengantaran aja, mereka bs langsung diberhentiin/dicut hari itu juga.',\n",
              " '@terserahlojen Sama2 semoga membantu. \\nInsyallah bpjs mandiri/pun yg gratis bisa digunakan semua',\n",
              " '🥇Inilah 12 Jawara Healthkathon BPJS Kesehatan | Direktur TI dalam Penghargaan Pemenang Healthkathon 2022\\nhttps://t.co/sBDMC8OpXa\\n\\nTetap sehat dan semangat! dan Terus dukung upaya edukasi publik dengan follow, like, comment dan share setiap konten media sosial BPJS Kesehatan 😉',\n",
              " 'Saya sudah mengajukan JKP tetapi status masih menunggu konfirmasi perusahaan. Sudah datang ke kantor BPJS TK diminta buat pengaduan Dan tunggu 3 hari. Sampai dengan saat ini belum ada respon. Tolong dibantu pak https://t.co/25PrRZeX7R',\n",
              " '@def0745 @Ard4nnA @FiersaBesari Program pkh dah dr jaman sby om, bpjs jg dimulai 2013 jaman sby, itu jg bukan berarti kebaikan sby semata, itu memang kewajiban negara, itu uang kita semua. Kita ngomong soal data 1 negara, bukan soal lu doang.',\n",
              " '@kocibamsek Efek samping tidak ditanggung bpjs 🙏🏻',\n",
              " '@terserahlojen Aku bpjs mandiri ,tetanggaku ada bpjs pemerintah yg ga iuran itu jg bisa buat sesar',\n",
              " '@meetsunsets Salam Sahabat. Pendaftaran kepesertaan JKN-KIS wajib dalam 1 KK. Jika saat ini orang tua aktif sebagai peserta PPU, namun status anak non aktif karena faktor usia maka kepesertaan anak dapat dialihkan menjadi peserta PBPU (mandiri). Terima kasih :) -sely',\n",
              " '@istriygsetia Pake BPJS yg mandiri atau pemerintah kak?',\n",
              " '@CNNIndonesia kalo pemerintah belii pake duit rakyat...ya jangan kembali ke rakyat obatnya pake label harga....atau gak di cover bpjs...apalagi harganya menakjubkan buat masyarakat umum',\n",
              " 'sapa mau jadi pacarku free konsultasi medis + step by step pengurusan rujukan melalui bpjs https://t.co/xwoPv1as9i',\n",
              " '@BPJSKesehatanRI Kalau ingin buat sendiri bisa gak ya min?',\n",
              " '@huchuabuabu @sockodzu @shinobifess Bisa aja sih pake bpjs. Kan dia bukan pejabat koruptor. Rumahnya aja sederhana meski lantai 2.',\n",
              " '@Adiittt_S10 BANGET! 90% politik &amp; sejarah, kalo udah kena mental ga ditanggung bpjs ya 🙏🏻',\n",
              " 'mencoba starbucks versi bpjs ceunah https://t.co/0C2kuFhchp',\n",
              " '@irfan_zidni @ariyadifebri Banyak juga ya. Saya pengalaman pakai bpjs cuma buat minta surat keterangan sehat, ga tahu bayar berapa, waktu ke kasir puskesmas dibilang \"tidak perlu bayar, sudah pakai bpjs\".',\n",
              " '@Sunshin399_ Salam Sahabat. Jika saat ini sudah tidak aktif dari perusahaan dan ingin beralih kepesertaan PBPU (mandiri) bisa melalui aplikasi Mobile JKN atau melalui layanan Pandawa (Layanan Administrasi Melalui WhatsApp) di nomor 081 18 165 165. Terima kasih. :) -sely',\n",
              " '@BPJSKesehatanRI halo min saya mau rubah bpjs pekerja jd mandiri caranya gmna?',\n",
              " 'Tories berhasil utk memisahkan dirinya dgn far right nya. Nigel Farrage sulit dpt tempat disini. Tories ga pernah mau masuk ke perdebatan soal NHS (BPJS nya UK), cuma Nigel Farrage yg pernah mengangkat isu NHS unreliable dan tdk dapat momentum apapun dari Public UK.',\n",
              " 'Pemko Tebing Tinggi Dan BPJS Teken MOU Sistem Penjamin Kesehatan https://t.co/6vAo9wate5 https://t.co/b4HiPs1f9M',\n",
              " 'Inilah 12 Jawara Healthkaton BPJS Kesehatan 2022\\n \\nhttps://t.co/Rc91fTP95T via @tribunnews',\n",
              " 'Inilah 12 Jawara Healthkathon BPJS Kesehatan | Direktur TI dalam Penghargaan Pemenang Healthkathon 2022\\n\\nhttps://t.co/egQwW0svNK',\n",
              " 'Lumayan juga kalau tiap 2 minggu sekali harus periksa, untung bpjs walau pelayanannya tapi lama gpp lah https://t.co/82n0YmjgbU',\n",
              " '@blogdokter di jkt bnyk nonaktif bpjs bayar lalu aktifkan bpjs gratis, dgn alasan bpjs bayar trs tapi yg pegang kartu jrg ke rumah sakit',\n",
              " '@worksfess Cb kamu minum vitamin b complex dulu nder.Atau ke dokter dulu pake bpjs.',\n",
              " '@blogdokter Yeesss ....!!!  \\njangankan gak bayar telat bayar aja kena denda @BPJSKesehatanRI',\n",
              " '@Mrs_JinWife @eveilebel Harusnya sih ke obgyn langsung. Klo punya bpjs bisa ke faskes 1 dlu nanti klo faskes 1 nya ga memadai utk meriksa akan dikasih rujukan ke RS jd lumayan biayanya gak akan mahal',\n",
              " '@airlanggafess Plk uner? Klinik nder klo sakit klo bpjs faskesnya uner tinggal bawa kasih ke petugasnya',\n",
              " '@pandebaik @soebagyosaja @nitia_a @blogdokter Jangankan gak di bayar ...telat bayar aja kena denda kemarin saya pakai @BPJSKesehatanRI  mau rawat inap suruh bayar denda Rp 700.000 karena terlambat bayar ..',\n",
              " '@bubblegun__ @eveilebel temen ku pakai bpjs, pas dah datang ke puskesmas malah dikira hamil sama orang poli, dan dia cuma dikasi kartu berobat trus beli obat... orang polinya bilang ahh biasa itu',\n",
              " 'Dah mah sekarang ngurus tanah make segala bpjs. aneh bat.',\n",
              " 'Apa sih website pemerintah (bpjs) make segala semuanya di singkat2. Dikata orang awam paham kali singkat2an',\n",
              " 'mantap antrian bpjs',\n",
              " '@blogdokter Klo operasi hernia ditanggung bpjs ga dok ?',\n",
              " 'Bila tagihan BPJS Kesehatan tidak dibayar maka akan menjadi hutang dan menumpuk terus. Berisiko kena denda bila digunakan untuk rawat inap.\\n\\nIngat, kepesertaan BPJS Kesehatan hanya bisa berhenti saat peserta meninggal dunia. https://t.co/9GhIbbernB',\n",
              " '@convomf Yang ngemper di bawah peserta BPJS kelas berapa?',\n",
              " '@ainniehidayat Salam Sahabat. Saat ini Pelayanan BPJS Kesehatan dapat diakses dengan menunjukkan nomor NIK KTP atau menunjukkan kartu digital yang ada di Mobile JKN pada Fasilitas Kesehatan terdaftar. Terima kasih :) -lia',\n",
              " '@kentaaangmekdi @kangfototulang @nitia_a Nggak balik, tapi orang2 kayak gitu mana ngerti subsidi silang.\\nAda jg yg udah sakit, udah pakein BPJS nya, pas sembuh ogah bayar lagi. Nanti masuk RS lagi baru mau bayar.',\n",
              " '@BPJSKesehatanRI mau tanya min, kartu fisik masih kis, tapi dia udh pindah ke bpjs kelas 1. Kl ke faskes bisa ga ya? Soalnya yg baru blm d print',\n",
              " 'Ternyata yang bukan karyawan juga bisa dapat, simak cara daftar BSU BPJS Ketenagakerjaan terbaru\\nhttps://t.co/XhdHoediYX\\n#BSU #BSU2022 #beritaterkini #beritaterbaru #bantuansosial',\n",
              " 'Udah paling bener syarat ikut BPJS nggak ngerokok, keangkat banyak bebannya, dan mungkin bakal bisa ngasih nakes lebih. https://t.co/hPmHwpHaXH',\n",
              " 'Tutorial Edabu Bpjs Kesehatan – PUNCAK\\xa0MEDIA https://t.co/2IBLh4QAiG',\n",
              " 'Selamat pagi min @BPJSTKinfo ,mau tanya.Kalau 1 NIK terdaftar di BPJS TK BPU &amp; PU apakah nantinya keduanya bisa dicairkan secara bersamaan?Atau apakah BPU&amp;PU saldonya bisa digabung jadi satu?Apa harus di nonaktifkan salah satu dulu?Percuma kalau nantinya yg bs dicairkan hny satu',\n",
              " '@takeawayplease @FiersaBesari Era sekarang Masuk BPJS di paksa2, vaksin paksa2 harus nya semua masyarakat bs bebas memilih',\n",
              " '@pandebaik @soebagyosaja @nitia_a @blogdokter konsekuensinya adalah BPJS nggak bisa digunakan, dan jika ingin digunakan lagi, selama nggak bayar itu dianggap hutang,',\n",
              " '@terserahlojen Aku normal,trus sepupuku sesar pake bpjs semua.\\nBahkan KIS yg gratis pemerintah jg bisa dipake buat sesar.\\nDicoba aja,',\n",
              " '@nitia_a @jayakabajay pernah operasi pake BPJS gratis dari faskes 1 sampe selesai pure nggak bayar, pelayanan nya juga sama aja, cuma kamar nya aja yang beda, bapak ku juga pernah operasi ditempat yang sama dan pakai BPJS juga, \\nsebenarnya semua tergantung SDM di rumah sakit sih , bukan BPJS nya,',\n",
              " '@fuadi_745 Kalo resign gabisa foya foya kak. bpjs soalnya~~',\n",
              " '@meetsunsets Salam Sahabat. Jika status saat ini sudah tidak ditanggung dari kepesertaan orang tua dan ingin mengaktifkan menjadi peserta PBPU (mandiri) silakan melalui Layanan Pandawa (Layanan Administrasi melalui Whatsapp) pada nomor 081 18 165 165. Terima kasih. :) -sely',\n",
              " '@BPJSKesehatanRI min mau tanya kalau misalnya saya udh punya bpjs dari kantor sayah tp udh non-aktif karna udh gak kuliah lg, trus rencana mau buat bpjs sendiri bisa kah? Atau harus aktifin yg dulu trus pindah jd individu?',\n",
              " 'Cikal bakal Kelahiran\\xa0Badan Penyelenggaran Jaminan Sosial (BPJS) Kesehatan\\xa0di Indonesia, berawal dari terbitnya Undang-Undang Sistem Jaminan Sosial Nasional (UU-SJSN) di zaman kepemimpinan Presiden ke-5 Megawati Soekarno Putri.',\n",
              " '@priyo_kusmiarto yang paling kerasa waktu almarhum om sy kena tumor, wah klo tanpa bpjs bayangin biayanya ngeri, karena sampai masuk RS Pusat Otak Nasional.',\n",
              " '@priyo_kusmiarto memang bpjs ada bbrp yang harus dibenahi kyk sistem antrian komputer (sy klo nunggu obat malah akhir2 ini sering ditinggal pulang. besok diambil) tapi ya ngebantu banget kyk pas sy operasi katarak (ya klo standar abis 6jt lah),',\n",
              " '@khasyieee @Bluebabyyy1 @Askrlfess Bisa bpjs kok. Kalo bayar umum ya lebih mahal',\n",
              " '@istriygsetia Mjb kak mau tanya soal bpjs untuk melahirkan, ini berlaku melahirkan normal atau cecar nder?',\n",
              " 'Ada kadrun mendoxing aku\\nDi bpjs sama di kantor dukcapil ada data lengkap ku\\nGak penting amat lah \\nWkwkwkwkkkk https://t.co/wUn1G3HkYS',\n",
              " '@KemnakerRI Alhamdulillah yg dpt bsu tp sesama buruh  gj umr yg gk puny bpjs ketenagakerjaan gk bisa dpt bsu',\n",
              " '@temp00rary @ariyadifebri Datang ke kantor bpjs...laporkan masalah...pasti dibantu. BPJS ga ada tipu tipu. Pelayanan lumayan bagus. Hanya harus sabar antri',\n",
              " '@convomf Ya gpp tar kalo ada orang sakit berobat ke dukun berarti bayarnya bisa pake bpjs trs tar klo ada org muntah paku bisa berobat oe dokter kan katanya sama aja',\n",
              " '@yan_mujiyanto @gie_nakayah8 @yusuf_dumdum Hahahaha gratis dong bpjs ...malah di naikin klu gak ada hitungan',\n",
              " '@bobbateas @_agiss @oxfara Buat yg nanya2. Mau murah meriah. Di puskesmas mana aja udah ada ahli gizi ya.. bpjs gratis. Yg non bpjs ya paling 5rb yak. Bs konsultasi A-Z. Krn stunting ga cm masalah TB-BB yg kecil n pendek. Semangat para ibu2 dan bapak2. Anak adl tanggungjawab ayah dan ibu. Bkn hanya ibu yaa',\n",
              " '/imissu ada yang pernah scalling gigi pake bpjs di puskesmas? boleh tanya2 nggak?',\n",
              " '@arafunetetsuji @drnewstwit @dr_koko28 Sapa bilang bpjs defisit mulu? https://t.co/B0z0kOGFzf',\n",
              " '@BPJSTKinfo min bpjs saya status kepesertaan udah non aktif tapi kenapa pas mau klaim jht tidak bisa, dan ada keterangan masih aktif padahal jelas-jelas di cek saldo status kepesertaanya sudah non aktif',\n",
              " '@SmgMenfess2 pake bpjs gratis. kalopun gaada bpjs jg ttp gratis di tempatku sih',\n",
              " '@SmgMenfess2 kalau bukan ktp domisili kayanya bayar deh. tapi gatau ya. temenku anak rantau dulu pernah berobat di puskesmas dan krn punya bpjs jd gratis. cuma buat 2x berobat aja kek nya gratisnya. but gatau kalau di tempatmu skrg gimana cmiiw',\n",
              " '@SmgMenfess2 Pengalamanku, kl ada bpjs dapat gratis kunjungan sekali. Tapi kalaupun bayar biasanya super murah.',\n",
              " '@koagur Jangan lupa ada pasien BPJS',\n",
              " 'Simak Cara Pindah Faskes BPJS Kesehatan Online, Pakai JKN Mobile https://t.co/PY77xJxU1Y https://t.co/fLZwB40qCi',\n",
              " 'Alasan gue gamau ke psikolog/psikiater pake BPJS. Udah terlanjur trust issue sat. \\nLantas apakah gue pergi tanpa BPJS? Jawabannya tidak. Saya pendam sendiri aja ceritanya sambil journaling kaya orang stress tiap hari. https://t.co/TyVNf4xcil',\n",
              " 'Tutorial Edabu Bpjs Kesehatan – PUNCAK\\xa0MEDIA https://t.co/dAqtijUNgX',\n",
              " '@carnalions Antara fisik dan mental\\nKeduanya saling sinambung\\n\\nKalo bisa barengan, better langsung deh\\n\\nKalo ada rentang, paling jeda 2-3 hari\\n\\nDengan persiapan uang yang cukup tentunya. Atau dengan rujukan bpjs',\n",
              " '@ObiWan_Catnobi @wencod Saya suka BPJS. Dr dulu saya selalu endorse BPJS. Karena benar ini bagus sekali. Sebenarnya. Namun belakangan sistem mereka berantakan banget, bikin kami yang bayar ga pernah bolong malah ga bisa pakai. Terakhir sy akhirnya bayar sendiri…',\n",
              " 'Inilah 12 Jawara Healthkaton BPJS Kesehatan 2022\\n \\nhttps://t.co/tPZ4fQlQWk via @tribunnews',\n",
              " 'betul kerasa banget waktu bapak sakit. ketolong bgt sama bpjs dan asuransi. kalau gada dua itu gatau lagi deh financial kedepannya gimana. https://t.co/rdOnZIUcJ0',\n",
              " 'Cara Daftar Bpjs Kesehatan Pribadi Secara Online – Info Aktual ›\\xa0Onlyfanss https://t.co/jaDfd7UhGc',\n",
              " '@whiteweddy kalo di swasta bagus dapet. kalo di swasta pelit bpjs only😌',\n",
              " '@tyjieun @unilabase Kaya berobat biasa, pakai bpjs kalau ada kalau ga ada bayar',\n",
              " 'Cara Daftar Bpjs Kesehatan Pribadi Secara Online – Info\\xa0Aktual https://t.co/YyYz20znB6',\n",
              " 'Cara Daftar Bpjs Kesehatan Pribadi Secara Online – Info\\xa0Aktual https://t.co/eKQ2KN7SOx',\n",
              " '@ususkecil Salam Sahabat. Jika saat ini membutuhkan pelayanan maupun tindakan medis silakan bisa dimulai dari faskes pertamanya, apabila sedang berada diluar domisili faskes terdaftar, silakan bisa menggunakan faskes kunjungan. Terima kasih. :) -ali',\n",
              " '@BPJSKesehatanRI kalo misal kita sedang di luar kota dari tempat rujukan BPJS kita apa bisa ke faskes 1 di tempat sekitar kita skrng?',\n",
              " '@thrssrothe @jokowi Biasanya bnyk dijumpai di bangsal2 gt. \\nTp jgn slh si, ayahku rwt inap, pke bpjs si tp kelasnya naik dr kls 1,krn butuh yg bnr2 sndr (biar g brisikin org lain), di dlm ada kursi, ada sofa kecil, tp dasarnya suka ngemper dibawah, jd ya ttp delosoran di bawah kek gt',\n",
              " '@alvinlie21 Kemungkinan besar diluar BPJS ini ... #berharapmasukBPJS',\n",
              " 'Jadi, yaudahlah biar aja aku bayar BPJS tu terus. Lagian kita ga tau ada kejadian apa didepan. Walaupun penanganan BPJS lambat tapi lebih baik drpd ga punya asuransi kesehatan apapun sama sekali.',\n",
              " 'Dulu mama sempat bilang \"kak kita udah ga usah ikutan BPJS lah, yg sering  berobat kan papa\" setelah papa meninggal. \\n\\nTp aku mikir, kalo seandainya keluarga lainnya sakit, aku blm bisa punya asuransi kesehatan, takut bayarnya tiba tiba banyak. https://t.co/x9ikmIiToY',\n",
              " '@ariyadifebri Cashflow seringkali oleng karna biaya rawat jalan atau rawat inap yg mendadak.\\nBeruntung bgt kantor suami cover asuransi swasta + BPJS juga.',\n",
              " 'Kalo ketemu pasien dgn asuransi termasuk BPJS ngerasa lbh tenang krn tau pasiennya ga bakal bangkrut buat bayar biaya berobat https://t.co/GVvyzkm9Mg',\n",
              " '@convomf Kiri bawah pasien BPJS',\n",
              " '@nabiylarisfa Bukan mimpi, tp halu!\\nLawan rakyat, pemerintah bakal terus banding.\\nKalahpun, mereka tidak akan menjalankan keputusan pengadilan dan aman-aman saja.\\nSudah terlalu sering terjadi. Karhutla, pelanggaran HAM, AMDAL Kendeng, kenaikan iuran BPJS, internet Papua, polusi udara dll😓',\n",
              " '@KemnakerRI Kenapa penyalurannya harus melalui kantor pos? sementara kami para pekerja peserta BPJS ketenagakerjaan maunya disalurkan melalui bank Himbara, karena kami masing-masing memiliki rekening dibank Himbara (BRI,BNI 46,&amp; BANK MANDIRI)',\n",
              " 'Biaya Berobat Gangguan Ginjal Akut Ditanggung BPJS Kesehatan https://t.co/8yZy8yOyJO #Ginjal #Akut #AnakAnak #Bpjs',\n",
              " '@KemnakerRI Teman sy tdk dpt cm bbrp tmn ssh dpt...sudah urus k sna k mari di pimpong dr bpjs ketenagakerjaan hrs k BRI dr BRI harus k bpjs y...alhasil tmn sy menyerah....Seba d link  tertulis dana sdh tersalurkan cm d rek bri tmn sy blm ada',\n",
              " '@The_RedsIndo kok bisa dari agustus enggak dapet2 nih? gue curiga fsg nyari dokter yg bisa di bayar dibawah umr merseyside. lama-lama kalo ada pemain cedera suruh pake bpjs pribadi aja hemat. bangsat!!!',\n",
              " 'Presiden Pantau Penyaluran #BSU Bagi Peserta BPJS Ketenagakerjaan https://t.co/LeIFGpERDC #bpjsketenagakerjaan',\n",
              " 'Menurut aku sekolah kedokteran/keperawatan harus ada matkul \"mengelola emosi, tata bahasa, dan psychology\"\\nKarna itu issues terbesar untuk tenaga medis (apalagi tenaga medis yang bekerja untuk pasien bpjs)',\n",
              " '@ariyadifebri Betul. Dulu beli asuransi buat bokap per bln bayar 900rb. Jalan polis 1th, bokap kena jantung dan kudu pasang ring 1 + ICU. Wkt itu habis 150an jt. Dicover asuransi 130an. Itung2 masih lebih untung ikut asuransi. Kl asuransi kantor jg beruntung, switch ke BPJS kl plafond abis 😁',\n",
              " '@mhmmdfdlrmdhn @babecabiita Kadang mindset yg begini nih yg salah. Kita yg cap duluan, BPJS=miskin=nakes bakal jutek. Mau gimana pun pelayanannya, ya kita bakal negatif thinking terus. Atau jangan2 malah kitanya yg ketus duluan ke nakesnya karna terintimidasi sama mindset sendiri 🥴',\n",
              " 'Saya sudah berkali kali merubah data, tapi dari BPJS tidak ada respon.\\nApa tidak boleh menambahkan anggota keluarga di BPJS.\\nAnak saya sekarang sakit dan pakai umum, karena BPJS tidak mau menanggung.\\nPerbulan saya bayar hanya untuk sedekah',\n",
              " '@BPJSKesehatanRI min saya kenapa saya sudah menambahkan peserta di BPJS tapi dari rumah sakit kok tidak diakui ya, setiap bulan saya sudah bayar. sama BPJS anak saya juga.\\nKeterangan di mobile JKN tidak tertanggung.\\nSaya sudah bekali kali laporan tapi tidak di respon https://t.co/9YtuDwOIQJ',\n",
              " '@nitia_a Alhamdulillah 2x operasi pakai BPJS ga ada kendala sama sekali. Berkali2 rawat jalan pakai bpjs &amp; umum, dan pelayanan sama aja mau umum/bpjs/asuransi lain. Kalau antri ya namanya pasien rame pasti antri, jadi harus maklum. Kalau emergency ga sanggup antri langsung ke IGD aja.',\n",
              " '@tegalfess Gratis pake BPJS',\n",
              " 'Tutorial Edabu Bpjs Kesehatan – PUNCAK\\xa0MEDIA https://t.co/Dv6V14RNPj',\n",
              " '@ariyadifebri Bener bangeeet, meskipun yg kupunya itu cuma bpjs doang tp bermanfaat sekaliii. Aku yg awalnya ga mikir bakal lahiran SC, pas ke bidan ternyata aku kudu SC, worry banget takut mahal tp hamdallah ternyata bisa lahiran gratis tanpa ngerasain sakit sama sekali \\U0001faf6',\n",
              " 'Tutorial Edabu Bpjs Kesehatan – PUNCAK\\xa0MEDIA https://t.co/MxokhLrQCH',\n",
              " '@Askrlfess Sebenernya pgn berlebihan misal bilang nakes kok gak cepat tanggap melayani pasien tp aku cuma pasien BPJS yg ditanggung pemerintah jd gk bisa berbuat apa-apa😪',\n",
              " 'Wkwkwkwkwk padahal dengan pake BPJS kita bener2 tercover loh semua urusan kesehatan {sebuah testimoni dari aku yg brojolin anak secara GRATIS) tapi masih ada aja org yg prefer ngutang berjuta2 pas sakit drpd bayar premi BPJS yg cuma puluhan rebu😩😩 https://t.co/sMuYvGFZDm',\n",
              " 'Sakiti saja hati mungil q gpp sumpah  gpp aq punya bpjs💔 https://t.co/PyN825FpgO',\n",
              " '@irfan_zidni @ariyadifebri Kak ini bisa pakai bpjs ya?',\n",
              " '@BPJSTKinfo Aku punya dua bpjs kesehatan tapi dalam satu perusahaan \\nItu gimana ya ka',\n",
              " 'gue cuma berharap tenaga kesehatan yang ngurus pasien dan calon pasien bisa lebih friendly dan sopan aja sih ke orang orang yang pakai bpjs. jangan langsung ngeliat pasien bpjs dengan sebelah mata gitu. https://t.co/gCpMLaOSxs',\n",
              " 'Kaum rebahan pembaca judul ya gini,DRUN Kadrun ente kalau punya kuota jangan buat link bokep mulu ngapa,sekali-kali klik link media...biar gak tulul,lagian kebanyakan juga masyarakat berobat make BPJS sekarang,nama doang keren Umar tapi otak setengah🧐🧐😴😴😴🤣🤣 https://t.co/OuExDniLVA',\n",
              " 'Bersyukurlah dgn bpjs wahai rakjat. Niatkanlah membantu sobat jgn niatkan berobat haha https://t.co/rdoLXT9eYT',\n",
              " 'ngeri beroohhh itu berita d koran bpjs umurnya tinggal 2 bulan :3',\n",
              " '@saburokareshi kalo maksa tetep mau kuliah, percuma lu ga bakal fokus krn nahan sakit. besok pagi kalo udah ga kuat langsung ke igd aja, jgn lupa kartu bpjs atau asuransi lain dibawa',\n",
              " \"Finally hari ini selesai nonton \\n'little women'\\n\\nCukup adrenalin sekali yaa alurnya, plot twist yang tak terduga, maap ya in Hye gua emosi bngt pas diawal eps sama karakternya wkwkwk\\n\\nTapi endingnya bagus si, walaupun gapuas si BPJS dan istrinya cuma mati gitu aja🔥 https://t.co/E15F6TTOLQ\",\n",
              " '@KompasTV Di cover BPJS gak tuh?',\n",
              " '@babecabiita Gatau ini baik atau buruknya bpjs. Jam 10 aku tertabrak mobil, jam 11 nyampe rs. Pas tau pake bpjs, jam 2 kalau ga salah udah dibolehin pulang. Padal kaki buat lurus aja gabisa sampe disiapin kursi roda buat keluar rs nya 😊 ada bukti foto nya pernah aku up langsung aja ke media',\n",
              " '@Ahap08602987 Salam Sahabat. Mohon maaf atas ketidaknyamanannya, saat ini Mobile JKN dibatasi koneksi ke Dukcapil. Sehingga proses Inquiry Mobile JKN saat ini mulai dari 06:00-20:00. Silakan dapat mencoba kembali secara berkala pada pukul 06:00-20:00. Terima kasih. :) -ali',\n",
              " '@BPJSKesehatanRI  Daftar online ada jam-jamnya ya? Tidak 24 jam? https://t.co/63ZRtiIi9R',\n",
              " '@def0745 @kuntadikhadafi @FiersaBesari BPJS kis jg bukan uang pemerintah,tp dari dari bpjs berbayar yg diputer untuk bayar rs.jd intinya itu uang rakyat ya buat rakyat lg,pemerintah cm kelola aja.',\n",
              " '@restyca_yah Itu di tanggung BPJS jang...',\n",
              " '@ariyadifebri Krn bpjs, aku kmrn operasi gigi impaksi ga bayar samsek. Yg mana itu tuh terbilang urgent kalo uda ngerasa nyeri. #bukanbuzzerbpjs🙏🏼😭',\n",
              " 'Bener ga sii? Kalo ke poli jiwa puskesmas cuma 30rban? Aku mau coba cek dan ga pake bpjs, ini daerah jakarta yaa. Tolong infonyaa. 💚',\n",
              " 'akhirnya bpjs ku tepake https://t.co/txVbsOw1Wo',\n",
              " 'sini lo maju bangsat gue gak takut\\ngue punya bpjs',\n",
              " 'Hah BPJS gratis ?????????\\nMaen lo kurang jauh.. \\n\\nbanyak negara yang ngasih pengobatan beneran gratisnya tanpa iuran (wajib).. https://t.co/93KO7PTv7x',\n",
              " 'Bener ga sii? Kalo ke poli jiwa puskesmas cuma 30rban? Aku mau coba cek dan ga pake bpjs, ini daerah jakarta yaa. Tolong infonyaa. 💭',\n",
              " '@jawashitpost luka dipukul ada bpjs, yang penting dapet xs',\n",
              " 'Anda Mau Bayar :\\n-Listrik\\n-Pulsa Listrik\\n-Pulsa HP\\n-PDAM\\n-BPJS\\n-Cicilan motor\\n-Transfer Uang\\nDatang saja ke tempat kami:\\nJl. Bregat Indah 1/2 Krapyak Tahunan Jepara\\n(p4an Bregat Ke Timur 30m )\\nHP/WA:08978245628',\n",
              " '@wihajune kenapa BPJS????',\n",
              " '@SmgMenfess2 Km ke faskes bpjs tmp km terdaftar nanti tinggal pilih rs mana bisa di pilih',\n",
              " '@ggonegim Ga semua orang punya BPJS ya',\n",
              " '@TulipKuning5 @intan_sari @digidaw_18 @babecabiita Lo kira yg pakai bpjs itu sedikit?? Goblok jangan menyeluruh mas. 😂',\n",
              " 'Abis vaksin mas apiw, ngeliat bener2 banyak bgt anak anak sakit bapil duduk lemes pucet sambil ngeringkep,ada yg digendong. Umum bpjs sama banyaknya, bener bener ga tega liatnya. Sehat sehat yu bocil bocil 🥺']"
            ]
          },
          "metadata": {},
          "execution_count": 7
        }
      ]
    },
    {
      "cell_type": "code",
      "source": [
        "pip install Sastrawi"
      ],
      "metadata": {
        "colab": {
          "base_uri": "https://localhost:8080/"
        },
        "id": "ftR8-HZAamRK",
        "outputId": "f5ba82ec-a045-4d4e-c877-3617d48fbd73"
      },
      "execution_count": 8,
      "outputs": [
        {
          "output_type": "stream",
          "name": "stdout",
          "text": [
            "Looking in indexes: https://pypi.org/simple, https://us-python.pkg.dev/colab-wheels/public/simple/\n",
            "Collecting Sastrawi\n",
            "  Downloading Sastrawi-1.0.1-py2.py3-none-any.whl (209 kB)\n",
            "\u001b[K     |████████████████████████████████| 209 kB 4.8 MB/s \n",
            "\u001b[?25hInstalling collected packages: Sastrawi\n",
            "Successfully installed Sastrawi-1.0.1\n"
          ]
        }
      ]
    },
    {
      "cell_type": "code",
      "source": [
        "import re\n",
        "import string\n",
        "from Sastrawi.Stemmer.StemmerFactory import StemmerFactory# create stemmer\n",
        "factory = StemmerFactory()\n",
        "stemmer = factory.create_stemmer()# stemming process\n",
        "# import StopWordRemoverFactory class\n",
        "from Sastrawi.StopWordRemover.StopWordRemoverFactory import StopWordRemoverFactory\n",
        "factory = StopWordRemoverFactory()\n",
        "stopword = factory.create_stop_word_remover()\n",
        "documents_clean=[]\n",
        "\n",
        "for d in datatw:\n",
        "    outputstem= stemmer.stem(d)\n",
        "    d= stopword.remove(outputstem)\n",
        "    # Remove Unicode\n",
        "    document_test = re.sub(r'[^\\x00-\\x7F]+', ' ', d)\n",
        "    # Remove Mentions\n",
        "    document_test = re.sub(r'@\\w+', '', document_test)\n",
        "    # Lowercase the document\n",
        "    document_test = document_test.lower()\n",
        "    # Remove punctuations\n",
        "    document_test = re.sub(r'[%s]' % re.escape(string.punctuation), ' ', document_test)\n",
        "    # Lowercase the numbers\n",
        "    document_test = re.sub(r'[0-9]', '', document_test)\n",
        "    # Remove the doubled space\n",
        "    outputstop = re.sub(r'\\s{2,}', ' ', document_test)\n",
        "    documents_clean.append(outputstop)"
      ],
      "metadata": {
        "id": "7TAY1QFza9OX"
      },
      "execution_count": 9,
      "outputs": []
    },
    {
      "cell_type": "code",
      "source": [
        "documents_clean[0:5]"
      ],
      "metadata": {
        "colab": {
          "base_uri": "https://localhost:8080/"
        },
        "id": "hnMw8fizbFsc",
        "outputId": "117d3e12-4446-419d-b129-39de92578d37"
      },
      "execution_count": 10,
      "outputs": [
        {
          "output_type": "execute_result",
          "data": {
            "text/plain": [
              "['mentok sih lebih ini auto bpjs https t co gxoxhfqkd',\n",
              " 'best rsup so far layan sat set sat set walaupun pk bpjs dokter awat apoteker super ramah fasilitas lengkap prosedur daftar periksa tindak bagus https t co blhmzprt',\n",
              " 'johannespartogi sealdrivereel van destraat tanyakanrl kalau salah pake bpjs teh amwidyou',\n",
              " 'ariyadifebri tarif rawat inap bpjs kayak ga yang sampe jt satu periode rawat inap kalo rawat icu atau tindak besar',\n",
              " 'xaxaxayasia gatausihgmn tanonaki convomfs wah enak yaa dulu pas jaman mama blm kip kak baru bpjs bpjs baruuu bgt rilis jd lumayan ribet blm cover byk klo skrg donor darah udh byk yg gratis mungkin aku bujuk mas hehe makasih info']"
            ]
          },
          "metadata": {},
          "execution_count": 10
        }
      ]
    },
    {
      "cell_type": "code",
      "source": [
        "from sklearn.feature_extraction.text import TfidfVectorizer\n",
        "import pandas as pd\n",
        "tfidfvectorizer = TfidfVectorizer(analyzer='word')\n",
        "tfidf_wm = tfidfvectorizer.fit_transform(documents_clean)\n",
        "tfidf_tokens = tfidfvectorizer.get_feature_names()"
      ],
      "metadata": {
        "id": "vyMqvU3u0YzN",
        "colab": {
          "base_uri": "https://localhost:8080/"
        },
        "outputId": "6f76c9f1-fd10-48ed-dece-914b041d8ef5"
      },
      "execution_count": 11,
      "outputs": [
        {
          "output_type": "stream",
          "name": "stderr",
          "text": [
            "/usr/local/lib/python3.7/dist-packages/sklearn/utils/deprecation.py:87: FutureWarning: Function get_feature_names is deprecated; get_feature_names is deprecated in 1.0 and will be removed in 1.2. Please use get_feature_names_out instead.\n",
            "  warnings.warn(msg, category=FutureWarning)\n"
          ]
        }
      ]
    },
    {
      "cell_type": "code",
      "source": [
        "from sklearn.feature_extraction.text import CountVectorizer \n",
        "import matplotlib.pyplot as plt\n",
        "import numpy as np # linear algebra\n",
        "import pandas as pd # data processing, CSV file I/O (e.g. pd.read_csv)\n",
        "cv = CountVectorizer()\n",
        "words = cv.fit_transform(documents_clean)\n",
        "sum_words = words.sum(axis=0)\n",
        "\n",
        "\n",
        "words_freq = [(word, sum_words[0, idx]) for word, idx in cv.vocabulary_.items()]\n",
        "words_freq = sorted(words_freq, key = lambda x: x[1], reverse = True)\n",
        "frequency = pd.DataFrame(words_freq, columns=['word', 'freq'])\n",
        "\n",
        "color = plt.cm.twilight(np.linspace(0, 1, 20))\n",
        "frequency.head(20).plot(x='word', y='freq', kind='bar', figsize=(15, 7), color = color)\n",
        "plt.title(\"Most Frequently Occuring Words - Top 20\")"
      ],
      "metadata": {
        "colab": {
          "base_uri": "https://localhost:8080/",
          "height": 494
        },
        "id": "8aI9jKmx0hRb",
        "outputId": "0b9ca2e9-3257-477e-c814-c1eeced224cb"
      },
      "execution_count": 12,
      "outputs": [
        {
          "output_type": "execute_result",
          "data": {
            "text/plain": [
              "Text(0.5, 1.0, 'Most Frequently Occuring Words - Top 20')"
            ]
          },
          "metadata": {},
          "execution_count": 12
        },
        {
          "output_type": "display_data",
          "data": {
            "text/plain": [
              "<Figure size 1080x504 with 1 Axes>"
            ],
            "image/png": "[encoded data removed]"
          },
          "metadata": {
            "needs_background": "light"
          }
        }
      ]
    },
    {
      "cell_type": "code",
      "source": [
        "from sklearn.cluster import KMeans\n",
        "true_k = 3\n",
        "model = KMeans(n_clusters=true_k, init='k-means++', max_iter=100, n_init=1)\n",
        "model.fit(words)"
      ],
      "metadata": {
        "colab": {
          "base_uri": "https://localhost:8080/"
        },
        "id": "uFoeoBRu0vzy",
        "outputId": "78b159bf-e7c5-4697-de1f-6089360bcc72"
      },
      "execution_count": 13,
      "outputs": [
        {
          "output_type": "execute_result",
          "data": {
            "text/plain": [
              "KMeans(max_iter=100, n_clusters=3, n_init=1)"
            ]
          },
          "metadata": {},
          "execution_count": 13
        }
      ]
    },
    {
      "cell_type": "code",
      "source": [
        "order_centroids = model.cluster_centers_.argsort()[:, ::-1]\n",
        "terms = cv.get_feature_names()\n",
        "\n",
        "for i in range(true_k):\n",
        "    print(\"Cluster %d:\" % i),\n",
        "    for ind in order_centroids[i, :10]:\n",
        "        print(' %s' % terms[ind]),\n",
        "    print\n",
        "\n",
        "print(\"\\n\")"
      ],
      "metadata": {
        "colab": {
          "base_uri": "https://localhost:8080/"
        },
        "id": "AgVteCEu00Q8",
        "outputId": "d9cb6d5f-709b-42f1-d83d-0b19a62c97cf"
      },
      "execution_count": 14,
      "outputs": [
        {
          "output_type": "stream",
          "name": "stdout",
          "text": [
            "Cluster 0:\n",
            " co\n",
            " bpjs\n",
            " https\n",
            " sudah\n",
            " hari\n",
            " tunggu\n",
            " respon\n",
            " tanggung\n",
            " sehat\n",
            " mobile\n",
            "Cluster 1:\n",
            " bpjs\n",
            " https\n",
            " co\n",
            " yg\n",
            " bayar\n",
            " ga\n",
            " sehat\n",
            " aja\n",
            " mau\n",
            " kalo\n",
            "Cluster 2:\n",
            " bri\n",
            " tmn\n",
            " sy\n",
            " dr\n",
            " dpt\n",
            " bpjs\n",
            " cm\n",
            " bbrp\n",
            " ketenagakerjaan\n",
            " sna\n",
            "\n",
            "\n"
          ]
        },
        {
          "output_type": "stream",
          "name": "stderr",
          "text": [
            "/usr/local/lib/python3.7/dist-packages/sklearn/utils/deprecation.py:87: FutureWarning: Function get_feature_names is deprecated; get_feature_names is deprecated in 1.0 and will be removed in 1.2. Please use get_feature_names_out instead.\n",
            "  warnings.warn(msg, category=FutureWarning)\n"
          ]
        }
      ]
    },
    {
      "cell_type": "code",
      "source": [
        "import scipy.cluster.hierarchy as sch\n",
        "X = cv.fit_transform(documents_clean).todense()\n",
        "dendrogram = sch.dendrogram(sch.linkage(X, method = 'ward',metric='euclidean'),orientation=\"top\")\n",
        "plt.title('Dendrogram')\n",
        "plt.xlabel('Jarak Ward')\n",
        "plt.ylabel('Nomor Dokumen')\n",
        "plt.show()"
      ],
      "metadata": {
        "colab": {
          "base_uri": "https://localhost:8080/",
          "height": 295
        },
        "id": "ZMD_Ymcu1Awz",
        "outputId": "69b2ad38-1566-413d-eabc-004091ee5acb"
      },
      "execution_count": 15,
      "outputs": [
        {
          "output_type": "display_data",
          "data": {
            "text/plain": [
              "<Figure size 432x288 with 1 Axes>"
            ],
            "image/png": "[encoded data removed]"
          },
          "metadata": {
            "needs_background": "light"
          }
        }
      ]
    },
    {
      "cell_type": "code",
      "source": [
        "import scipy.cluster.hierarchy as sch\n",
        "X = cv.fit_transform(documents_clean).todense()\n",
        "dendrogram = sch.dendrogram(sch.linkage(X, method = 'average',metric='euclidean'),orientation=\"right\")\n",
        "plt.title('Dendrogram')\n",
        "plt.xlabel('Jarak Rerata')\n",
        "plt.ylabel('Nomor Dokumen')\n",
        "plt.show()"
      ],
      "metadata": {
        "colab": {
          "base_uri": "https://localhost:8080/",
          "height": 295
        },
        "id": "TySAmJky1SmO",
        "outputId": "1b633111-3623-479e-b762-246d2aa5fbe2"
      },
      "execution_count": 16,
      "outputs": [
        {
          "output_type": "display_data",
          "data": {
            "text/plain": [
              "<Figure size 432x288 with 1 Axes>"
            ],
            "image/png": "[encoded data removed]"
          },
          "metadata": {
            "needs_background": "light"
          }
        }
      ]
    }
  ]
}